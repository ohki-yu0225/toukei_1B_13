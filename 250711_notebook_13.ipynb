{
  "cells": [
    {
      "cell_type": "markdown",
      "metadata": {
        "id": "view-in-github",
        "colab_type": "text"
      },
      "source": [
        "<a href=\"https://colab.research.google.com/github/ohki-yu0225/toukei_1B_13/blob/main/250711_notebook_13.ipynb\" target=\"_parent\"><img src=\"https://colab.research.google.com/assets/colab-badge.svg\" alt=\"Open In Colab\"/></a>"
      ]
    },
    {
      "cell_type": "markdown",
      "metadata": {
        "id": "prND8o9N7z87"
      },
      "source": [
        "# 統計学実習 IB 第 13 回"
      ]
    },
    {
      "cell_type": "markdown",
      "metadata": {
        "id": "0owN6qa87z89"
      },
      "source": [
        "# Statistics Practice IB 13th\n",
        "\n"
      ]
    },
    {
      "cell_type": "code",
      "execution_count": null,
      "metadata": {
        "id": "LPzfVHsd7z8-"
      },
      "outputs": [],
      "source": [
        "# 'pandas', 'numpy', 'matplotlib.pyplot', 'japanize_matplotlib', 'scipy.stats'をインポートする。\n",
        "# Import 'pandas', 'numpy', 'matplotlib.pyplot', 'japanize_matplotlib', and 'scipy.stats'.\n",
        "!pip install japanize_matplotlib\n",
        "\n",
        "import pandas as pd\n",
        "import numpy as np\n",
        "import matplotlib.pyplot as plt\n",
        "import japanize_matplotlib\n",
        "from scipy import stats"
      ]
    },
    {
      "cell_type": "markdown",
      "metadata": {
        "id": "HoJbZBRK7z8_"
      },
      "source": [
        "## 大数の法則"
      ]
    },
    {
      "cell_type": "markdown",
      "metadata": {
        "id": "RWp1XOu-7z8_"
      },
      "source": [
        "## Law of large numbers"
      ]
    },
    {
      "cell_type": "code",
      "execution_count": null,
      "metadata": {
        "id": "TTgSAm6b7z8_"
      },
      "outputs": [],
      "source": [
        "# コイントスを100回まで行う実験をシミュレーションし、表の相対度数を図示する（1を表、0を裏とする）\n",
        "# Simulate an experiment in which a coin toss is performed up to 100 times and illustrate the relative frequencies of the front\n",
        "# (1 is the front and 0 is the back)\n",
        "n = 100\n",
        "coin = [0, 1]\n",
        "x = np.random.choice(coin, size=n)\n",
        "x_bar = np.cumsum(x) / np.arange(1, n + 1)\n",
        "plt.plot(x_bar)\n",
        "plt.axhline(0.5, color=\"r\")\n",
        "plt.ylim(0, 1)\n",
        "plt.xlabel(\"試行回数\")\n",
        "plt.ylabel(\"相対度数\")"
      ]
    },
    {
      "cell_type": "code",
      "execution_count": null,
      "metadata": {
        "id": "cBkwvDBn7z9A"
      },
      "outputs": [],
      "source": [
        "# 練習1 コイントスを1000回まで行う実験をシミュレーションし、表の相対度数を図示する（1を表、0を裏とする）\n",
        "# Exercise 1 Simulate an experiment in which a coin toss is performed up to 1000 times and illustrate the relative frequencies of the front\n",
        "# (1 is the front and 0 is the back)\n"
      ]
    },
    {
      "cell_type": "code",
      "execution_count": null,
      "metadata": {
        "id": "MUR3n7_R7z9A"
      },
      "outputs": [],
      "source": [
        "# 練習2 コイントスを10000回まで行う実験をシミュレーションし、表の相対度数を図示する（1を表、0を裏とする）\n",
        "# Exercise 2 Simulate an experiment in which a coin toss is performed up to 10000 times and illustrate the relative frequencies of the front\n",
        "# (1 is the front and 0 is the back)\n"
      ]
    },
    {
      "cell_type": "markdown",
      "metadata": {
        "id": "RTkACOyi7z9B"
      },
      "source": [
        "## 中心極限定理"
      ]
    },
    {
      "cell_type": "markdown",
      "metadata": {
        "id": "8a-Lz4u17z9C"
      },
      "source": [
        "## Central limit theorem"
      ]
    },
    {
      "cell_type": "code",
      "execution_count": null,
      "metadata": {
        "id": "r1cMmy487z9C"
      },
      "outputs": [],
      "source": [
        "# サイコロを1回振る試行の平均と分散を計算する\n",
        "# Calculate the mean and variance of one dice roll attempt\n",
        "dice = [1, 2, 3, 4, 5, 6]\n",
        "mean = np.mean(dice)\n",
        "var = np.var(dice)\n",
        "print(f'平均：{mean}')\n",
        "print(f'分散：{var}')"
      ]
    },
    {
      "cell_type": "code",
      "execution_count": null,
      "metadata": {
        "id": "J_rHKxUi7z9D"
      },
      "outputs": [],
      "source": [
        "# サイコロを5個振る試行を10000回行い、出目の平均値を計算する\n",
        "# Perform 10000 trials of 5 dice rolls and calculate the average of the rolls\n",
        "dice = [1, 2, 3, 4, 5, 6]\n",
        "n = 5\n",
        "x_bar = []\n",
        "for i in range(0,10000):\n",
        "    x_i = np.random.choice(dice, size=n)\n",
        "    x_bar.append(float(np.mean(x_i)))\n",
        "print(x_bar)"
      ]
    },
    {
      "cell_type": "code",
      "execution_count": null,
      "metadata": {
        "id": "HvltwXee7z9D"
      },
      "outputs": [],
      "source": [
        "# 出目の平均値のヒストグラムと中心極限定理から近似すると予想される正規分布の確率密度関数を図示する\n",
        "# Illustrate the histogram of the mean and the probability density function of the normal distribution that would be expected to approximate it based on the central limit theorem\n",
        "rv = stats.norm(mean, np.sqrt(var/n))\n",
        "x_range = np.linspace(1,6,100)\n",
        "plt.hist(x_bar, density=True)\n",
        "plt.plot(x_range, rv.pdf(x_range))\n",
        "plt.xlabel('x')\n",
        "plt.ylabel('p(x)')\n"
      ]
    },
    {
      "cell_type": "code",
      "execution_count": null,
      "metadata": {
        "id": "3A_CuveS7z9E"
      },
      "outputs": [],
      "source": [
        "# 練習3 サイコロを10個振る試行を10000回行い、出目の平均値を計算する\n",
        "# Exercise 3 Perform 10000 trials of 10 dice rolls and calculate the average of the rolls\n"
      ]
    },
    {
      "cell_type": "code",
      "execution_count": null,
      "metadata": {
        "id": "YvRdn2KG7z9E"
      },
      "outputs": [],
      "source": [
        "# 練習4 出目の平均値のヒストグラムと中心極限定理から近似すると予想される正規分布の確率密度関数を図示する\n",
        "# Exercise 4 Illustrate the histogram of the mean and the probability density function of the normal distribution that would be expected to approximate it based on the central limit theorem\n"
      ]
    },
    {
      "cell_type": "code",
      "execution_count": null,
      "metadata": {
        "id": "A_au-JJl7z9E"
      },
      "outputs": [],
      "source": [
        "# 練習5 平均値を計算するサイコロの数を増やして同様のシミュレーションを行い、ヒストグラムと正規分布の確率密度関数が漸近することを確認する\n",
        "# Exercise 5 Run the same simulation with more dice to calculate the mean, and confirm that the probability density functions of the histogram and the normal distribution are asymptotic\n"
      ]
    },
    {
      "cell_type": "markdown",
      "metadata": {
        "id": "9-akgn307z9E"
      },
      "source": [
        "## 二項分布の正規近似"
      ]
    },
    {
      "cell_type": "markdown",
      "metadata": {
        "id": "2DSsiIEZ7z9E"
      },
      "source": [
        "## Normal approximation of binomial distribution"
      ]
    },
    {
      "cell_type": "markdown",
      "metadata": {
        "id": "4P75kwq27z9E"
      },
      "source": [
        "大標本の極限では二項分布$B(n,p)$は正規分布$N(np,np(1-p))$に漸近する。"
      ]
    },
    {
      "cell_type": "markdown",
      "metadata": {
        "id": "bDWluLOg7z9F"
      },
      "source": [
        "In the large sample limit, the binomial distribution $B(n,p)$ is asymptotic to the normal distribution $N(np,np(1-p))$."
      ]
    },
    {
      "cell_type": "code",
      "execution_count": null,
      "metadata": {
        "id": "NEm6cawf7z9F"
      },
      "outputs": [],
      "source": [
        "# p=0.1、n=10の二項分布と対応する正規分布を同時に図示する\n",
        "# Illustrate simultaneously the binomial distribution with p=0.1 and n=10 and the corresponding normal distribution\n",
        "rv1=stats.binom(10,0.1)\n",
        "rv1_n = stats.norm(1,np.sqrt(0.9))\n",
        "x_range1 = np.arange(0,11)\n",
        "x_range2 = np.linspace(0,10,100)\n",
        "plt.plot(x_range1, rv1.pmf(x_range1), 'ro')\n",
        "plt.plot(x_range2, rv1_n.pdf(x_range2), 'r-')\n",
        "plt.xlabel('x')\n",
        "plt.ylabel('p(x)')"
      ]
    },
    {
      "cell_type": "code",
      "execution_count": null,
      "metadata": {
        "id": "8YOjtKqY7z9F"
      },
      "outputs": [],
      "source": [
        "#練習6 p=0.1として、n=10,30,50の二項分布と対応する正規分布を同時に図示する\n",
        "#Exercise 6 Illustrate simultaneously the binomial distribution for n=10,30,50 as p=0.1 and the corresponding normal distribution\n"
      ]
    },
    {
      "cell_type": "code",
      "execution_count": null,
      "metadata": {
        "id": "L1DazqFK7z9F"
      },
      "outputs": [],
      "source": [
        "# 変数xがp=0.3, n=60の二項分布に従うときにxが15から20の間の値をとる確率を計算する\n",
        "# Calculate the probability that x takes a value between 15 and 20 when the variable x follows a binomial distribution with p=0.3, n=60\n",
        "rv1=stats.binom(60,0.3)\n",
        "prob_b = rv1.cdf(20) - rv1.cdf(14)\n",
        "print(prob_b)"
      ]
    },
    {
      "cell_type": "code",
      "execution_count": null,
      "metadata": {
        "id": "gPZa8Tif7z9G"
      },
      "outputs": [],
      "source": [
        "# 練習7 p=0.3, n=60の二項分布を正規分布で近似し、xが15から20の間の値をとる確率を計算する\n",
        "# Exercise 7 Approximate the binomial distribution for p=0.3, n=60 with a normal distribution and calculate the probability that x takes a value between 15 and 20\n",
        "\n",
        "print(prob_n)"
      ]
    },
    {
      "cell_type": "code",
      "source": [
        "# 二項分布で計算した確率と近似した正規分布で計算した確率の誤差を計算する\n",
        "# Calculate the error between the probability calculated with a binomial distribution and the probability calculated with an approximate normal distribution\n",
        "error1 = (prob_b - prob_n) / prob_b * 100\n",
        "print(f'誤差：{error1}％')"
      ],
      "metadata": {
        "id": "2uR0zzNTWNM1"
      },
      "execution_count": null,
      "outputs": []
    },
    {
      "cell_type": "code",
      "source": [
        "# 練習8 正規分布から連続修正を行った上でxが15から20の間の値をとる確率を計算する\n",
        "# （連続修正がわからない人は統計学Iの資料を参照すること）\n",
        "# Exercise 8 Calculate the probability that x takes a value between 15 and 20 from a normal distribution with continuity correction\n",
        "# (If you do not know what continuity correction is, refer to the material in Statistics I)\n",
        "\n",
        "print(prob_n_new)"
      ],
      "metadata": {
        "id": "ReMvL15MWlnP"
      },
      "execution_count": null,
      "outputs": []
    },
    {
      "cell_type": "code",
      "source": [
        "# 二項分布で計算した確率と正規分布から連続修正して計算した確率の誤差を計算する\n",
        "# Calculate the error between the probability calculated from the binomial distribution and the probability calculated from the normal distribution with continuity correction\n",
        "error2 = (prob_b - prob_n_new) / prob_b * 100\n",
        "print(f'誤差：{error2}％')"
      ],
      "metadata": {
        "id": "Jef4OXrRWqoz"
      },
      "execution_count": null,
      "outputs": []
    }
  ],
  "metadata": {
    "kernelspec": {
      "display_name": "toukei_IB",
      "language": "python",
      "name": "python3"
    },
    "language_info": {
      "codemirror_mode": {
        "name": "ipython",
        "version": 3
      },
      "file_extension": ".py",
      "mimetype": "text/x-python",
      "name": "python",
      "nbconvert_exporter": "python",
      "pygments_lexer": "ipython3",
      "version": "3.10.14"
    },
    "colab": {
      "provenance": [],
      "include_colab_link": true
    }
  },
  "nbformat": 4,
  "nbformat_minor": 0
}